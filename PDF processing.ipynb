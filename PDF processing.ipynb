{
 "cells": [
  {
   "cell_type": "code",
   "execution_count": 2,
   "metadata": {
    "collapsed": true
   },
   "outputs": [],
   "source": [
    "import pandas as pd\n",
    "import numpy as np\n",
    "from pandas import DataFrame, Series\n",
    "from pdfminer.pdfinterp import PDFResourceManager, PDFPageInterpreter\n",
    "from pdfminer.converter import TextConverter\n",
    "from pdfminer.layout import LAParams\n",
    "from pdfminer.pdfpage import PDFPage\n",
    "from cStringIO import StringIO"
   ]
  },
  {
   "cell_type": "markdown",
   "metadata": {},
   "source": [
    "## Sourcing the PDFs from URLs\n",
    "I tried using many different methods to source the PDFs - all perfectly good in theory including:\n",
    "* urllib2.request\n",
    "* requests\n",
    "* pdfminer - http://stackoverflow.com/questions/26494211/extracting-text-from-a-pdf-file-using-pdfminer-in-python\n",
    "\n",
    "...However the PDFs in the shark attack dataset are encoded content which gets corrupted if using any of the above.\n",
    "Essentially I ended up with the following function which simply used curl to download the pdfs and to then decode the content."
   ]
  },
  {
   "cell_type": "code",
   "execution_count": 3,
   "metadata": {
    "collapsed": true
   },
   "outputs": [],
   "source": [
    "import requests\n",
    "import shutil"
   ]
  },
  {
   "cell_type": "code",
   "execution_count": 37,
   "metadata": {
    "collapsed": true
   },
   "outputs": [],
   "source": [
    "def get_the_pdf(url, loc):\n",
    "    headers = {'User-Agent': 'curl'}\n",
    "    response = requests.get(url, headers=headers, stream=True)\n",
    "\n",
    "    if response.status_code == 200:\n",
    "        with open(loc, 'wb') as output:\n",
    "            response.raw.decode_content = True\n",
    "            shutil.copyfileobj(response.raw, output)"
   ]
  },
  {
   "cell_type": "markdown",
   "metadata": {},
   "source": [
    "## pdfminer function\n",
    "The following function uses pdfminer to convert the pdf content into text format. The function takes just 1 argument being the pdf file path to convert."
   ]
  },
  {
   "cell_type": "code",
   "execution_count": 15,
   "metadata": {
    "collapsed": true
   },
   "outputs": [],
   "source": [
    "def convert_pdf_to_txt(path):\n",
    "    rsrcmgr = PDFResourceManager()\n",
    "    retstr = StringIO()\n",
    "    codec = 'utf-8'\n",
    "    laparams = LAParams()\n",
    "    device = TextConverter(rsrcmgr, retstr, codec=codec, laparams=laparams)\n",
    "    fp = file(path, 'rb')\n",
    "    interpreter = PDFPageInterpreter(rsrcmgr, device)\n",
    "    password = \"\"\n",
    "    maxpages = 0\n",
    "    caching = True\n",
    "    pagenos=set()\n",
    "    for page in PDFPage.get_pages(fp, pagenos, maxpages=maxpages, password=password,caching=caching, check_extractable=True):\n",
    "        interpreter.process_page(page)\n",
    "    fp.close()\n",
    "    device.close()\n",
    "    str = retstr.getvalue()\n",
    "    retstr.close()\n",
    "    return str"
   ]
  },
  {
   "cell_type": "code",
   "execution_count": 33,
   "metadata": {
    "collapsed": true
   },
   "outputs": [],
   "source": [
    "# make an empty list to eventually hold all the attacks content from each pdf.\n",
    "# This will later be the source of the DataFrame\n",
    "attacks = []"
   ]
  },
  {
   "cell_type": "code",
   "execution_count": 34,
   "metadata": {
    "collapsed": false
   },
   "outputs": [],
   "source": [
    "# create tge DataFrame\n",
    "sa = pd.read_csv('shark-attack-incurl.csv')"
   ]
  },
  {
   "cell_type": "markdown",
   "metadata": {},
   "source": [
    "## Download the PDFs!\n",
    "This may take ~15 mins...\n",
    "Some faile so am performing this in a try / except block"
   ]
  },
  {
   "cell_type": "code",
   "execution_count": null,
   "metadata": {
    "collapsed": false
   },
   "outputs": [
    {
     "name": "stdout",
     "output_type": "stream",
     "text": [
      "\"http://sharkattackfile.net/spreadsheets/pdf_directory/2014.10.17-Olsson failed, oh well move on\n",
      "-pdf\" failed, oh well move on\n",
      "-pdf\" failed, oh well move on\n",
      "2014.01.04-Rianto.pdf failed, oh well move on\n",
      "2004.04.05-JP-Andrew.pdf failed, oh well move on\n"
     ]
    }
   ],
   "source": [
    "c = 0\n",
    "with open(r'shark-attack-incurl.csv', 'r') as f:\n",
    "    next(f)\n",
    "    for l in f:\n",
    "        c += 1\n",
    "        if c >= 6086:\n",
    "            break\n",
    "        try:\n",
    "            pdf = l.split(',')[-4]\n",
    "            fn = l.split(',')[-6].replace(' ', '-')\n",
    "                \n",
    "            get_the_pdf(pdf, 'pdf/'+fn)\n",
    "                \n",
    "        except:\n",
    "            print fn + ' failed, oh well move on'\n",
    "            #p = pdf_from_url_to_txt(pdf)"
   ]
  },
  {
   "cell_type": "code",
   "execution_count": 153,
   "metadata": {
    "collapsed": false
   },
   "outputs": [],
   "source": [
    "sa['Case Number'] = sa['Case Number'].str.lower()"
   ]
  },
  {
   "cell_type": "markdown",
   "metadata": {},
   "source": [
    "## Ingest into DF and prepare the PDFs\n",
    "In this cell we loop through the Shark Attacks (sa) DataFrame and for each row we take the value in the pdf column (being the pdf file name) and pass it into the conert_pdf_to_txt function.\n",
    "The through a series of nested list comprehension we prepared the data and add it to a list(l):\n",
    "* filter the lines to only include those with a colon\n",
    "* split the unstructured pdf text by newline\n",
    "* split to produce a *key* and *value* pair (either side of the colon)\n",
    "* make the key lowercase\n",
    "\n",
    "Once prepared, we turn the list into a dictionary (d) and append each dictionary (representing the row) into a list."
   ]
  },
  {
   "cell_type": "code",
   "execution_count": 54,
   "metadata": {
    "collapsed": true
   },
   "outputs": [],
   "source": [
    "import re"
   ]
  },
  {
   "cell_type": "code",
   "execution_count": 155,
   "metadata": {
    "collapsed": false
   },
   "outputs": [],
   "source": [
    "attacks = []\n",
    "for r in sa.pdf:\n",
    "    path = 'pdf/'+r\n",
    "    try:\n",
    "        p = convert_pdf_to_txt(path)\n",
    "        l = [[i.strip().lower() for i in d.split(':')] for d in re.split('\\\\n', p) if ':' in d]\n",
    "        d = {i[0]:i[1] for i in l}\n",
    "        # add a key to the dictionary containing the pdf filename\n",
    "        d['pdffilename'] = r\n",
    "        d['Case Number'] = d['case'].replace('gsaf', '').strip() \n",
    "        attacks.append(d)\n",
    "    except:\n",
    "        pass"
   ]
  },
  {
   "cell_type": "markdown",
   "metadata": {},
   "source": [
    "## Missing data\n",
    "Sadly out of 6,085 shark attack, only 1,479 records had a pdf - this could be because some were corrupt or missing or had an invalid url."
   ]
  },
  {
   "cell_type": "code",
   "execution_count": 119,
   "metadata": {
    "collapsed": false
   },
   "outputs": [
    {
     "data": {
      "text/plain": [
       "8"
      ]
     },
     "execution_count": 119,
     "metadata": {},
     "output_type": "execute_result"
    }
   ],
   "source": [
    "len(attacks)"
   ]
  },
  {
   "cell_type": "code",
   "execution_count": 156,
   "metadata": {
    "collapsed": false
   },
   "outputs": [
    {
     "data": {
      "text/plain": [
       "[{'': '',\n",
       "  'Case Number': '2017.05.13',\n",
       "  'activity': 'spearfishing / free diving',\n",
       "  'case': 'gsaf 2017.05.13',\n",
       "  'date': 'friday may 13, 2017',\n",
       "  'depth': '18 metres, but the incident took place at the surface.',\n",
       "  'description': 'a  41-year-old  male,  a  diabetic,',\n",
       "  'distance from shore': 'five nautical miles',\n",
       "  'distance from support boat': 'three metres',\n",
       "  'environment': 'a video taken  on the  boat  shortly  before  the  incident  suggests the  two',\n",
       "  'http': '//www.thenational.ae/uae/environment/20170514/emirati-fisherman-recovering-after-',\n",
       "  'injury': 'right leg bitten',\n",
       "  'location': 'the incident took place in the indian',\n",
       "  'moon phase': 'full moon, 98% of the moon was illuminated.',\n",
       "  'name': 'ali mohammad hamad al beloushi',\n",
       "  'narrative': 'ali  mohammad  hamad  al  beloushi  and  his friend, omar,  left  khor  fakkan',\n",
       "  'pdffilename': '2017.05.12-Beloushi.pdf',\n",
       "  'sources': 'ahmed shaaban, khaleej times, may 13, 2017',\n",
       "  'species': 'not  identified,  however,  it  appears  the  shark  was  simply  trying  to  snatch  the',\n",
       "  'time': 'morning',\n",
       "  'treatment': 'omar  reported  the  incident  to  the  police  and  the  national  ambulance  and',\n",
       "  'weather': 'when the two men left khor fakkan'},\n",
       " {'Case Number': '2017.05.06.r',\n",
       "  'activity': 'attempting to lasso a shark',\n",
       "  'case': 'gsaf 2017.05.06.r',\n",
       "  'date': 'reported may 6, 2017',\n",
       "  'description': 'a 29-year-old male',\n",
       "  'https': '//www.thesun.co.uk/news/3496117/swimmer-has-chunk-bitten-out-of-his-leg-after-he-',\n",
       "  'injury': 'minor laceration to anterior right thigh.',\n",
       "  'location': 'near weipa, northern queensland, australia',\n",
       "  'name': \"josh 'ferrett' neille\",\n",
       "  'narrative': '\\xe2\\x80\\x9ci just wanted to land the shark so i dived into the',\n",
       "  'note': 'this was a provoked incident.',\n",
       "  'pdffilename': '2017.05.06.R-Neille.pdf',\n",
       "  'source': 'the sun, may 6, 2017',\n",
       "  'species': 'a nine-foot shark',\n",
       "  'treatment': 'the injury was treated at the weipa hospital.'},\n",
       " {'Case Number': '2017.05.06',\n",
       "  'activity': 'snorkeling',\n",
       "  'case': 'gsaf 2017.05.06',\n",
       "  'date': 'saturday may 6, 2017',\n",
       "  'description': 'a 33-year-old male. he was a good swimmer and was',\n",
       "  'distance from shore': '100 feet',\n",
       "  'http': '//www.eluniversal.com.mx/articulo/estados/2017/05/9/hallan-cuerpo-de-turista-',\n",
       "  'https': '//www.elsudcaliforniano.com.mx/malecon/cabo-pulmo-no-tiene-registro-de-ataque-',\n",
       "  'location': 'the incident took place in the sea of cortez at the beach',\n",
       "  'moon  phase': 'waxing gibbous, 84% of the moon was illuminated. full moon, may 10,',\n",
       "  'name': 'andres rozada diego fernandez',\n",
       "  'narrative': 'andres rozada and friends were spending the afternoon on the beach, when',\n",
       "  'pdffilename': '2017.05.06-Rozada.pdf',\n",
       "  'sea conditions': 'the water was calm',\n",
       "  'sources': 'juan rozada, andres rozada\\xe2\\x80\\x99s brother, via telephone on may 11, 2017',\n",
       "  'time': '17h00',\n",
       "  'weather': 'at 16h52, cabo pulmo recorded 12-mile visibility and partly'},\n",
       " {'Case Number': '2017.05.03',\n",
       "  'activity': 'surfing',\n",
       "  'case': 'gsaf 2017.05.03',\n",
       "  'case investigator': 'ralph collier, gsaf',\n",
       "  'date': 'wednesday may 3, 2017',\n",
       "  'depth of water': 'waist-deep',\n",
       "  'description': 'an 18-year-old female from santa monica.',\n",
       "  'environment': 'los angeles county lifeguards say there was no shark sighting before,',\n",
       "  'injury': 'a 13-inch laceration, four-inches deep to her thigh, consistent with an injury from',\n",
       "  'location': 'the  incident  took  place  in  the  pacific  ocean  at',\n",
       "  'moon phase': 'first quarter',\n",
       "  'name': 'sophia raab',\n",
       "  'narrative': 'sophia  raab  was  surfing  with  a  friend  when  she  fell  off  her  board  and',\n",
       "  'pdffilename': '2017.05.03-Raab.pdf',\n",
       "  'species': 'while there is no question the patient sustained an injury,  she did not see any',\n",
       "  'time': '14h30',\n",
       "  'treatment': 'the patient was released from the hospital friday evening.',\n",
       "  'weather': 'at 14h53, knsa recorded scattered clouds and 10-'},\n",
       " {'Case Number': '2017.04.29.d',\n",
       "  'activity': 'wading',\n",
       "  'case': 'gsaf 2017.04.29.d',\n",
       "  'case investigator': 'ralph collier',\n",
       "  'date': 'saturday april 29, 2017',\n",
       "  'description': 'she is the mother of three young children.',\n",
       "  'injury': 'the removed all the muscle from her posterior leg from knee to hip, just missing',\n",
       "  'location': 'the  attack  took  place  a  surf  spot  called  \\xe2\\x80\\x9cchurch\\xe2\\x80\\x9d,',\n",
       "  'moon phase': 'waxing crescent, 15% of the moon was illuminated. new moon, april 26,',\n",
       "  'name': 'leeanne ericson',\n",
       "  'narrative': 'leeanne ericson was camping with her boyfriend when the couple decided',\n",
       "  'pdffilename': '2017.04.29.d-Ericson.pdf',\n",
       "  'sea conditions': 'low tide.',\n",
       "  'species': 'the incident involved a shark 10 feet in length.',\n",
       "  'time': '17h24',\n",
       "  'treatment': 'she was airlifted to scripps memorial hospital in la jolla.'}]"
      ]
     },
     "execution_count": 156,
     "metadata": {},
     "output_type": "execute_result"
    }
   ],
   "source": [
    "# Preview the data (list)\n",
    "attacks[:5]"
   ]
  },
  {
   "cell_type": "code",
   "execution_count": 157,
   "metadata": {
    "collapsed": true
   },
   "outputs": [],
   "source": [
    "# Load the list of pdf dictionaries into a DataFrame\n",
    "attackspdf = DataFrame(attacks)"
   ]
  },
  {
   "cell_type": "code",
   "execution_count": 172,
   "metadata": {
    "collapsed": false
   },
   "outputs": [],
   "source": [
    "pdfdata = attackspdf[['Case Number', 'date','moon phase', 'time', 'weather', 'location', 'name', 'pdffilename']]"
   ]
  },
  {
   "cell_type": "code",
   "execution_count": 173,
   "metadata": {
    "collapsed": false
   },
   "outputs": [],
   "source": [
    "dd = sa.merge(pdfdata, how='inner', on='Case Number')"
   ]
  },
  {
   "cell_type": "markdown",
   "metadata": {},
   "source": [
    "## The Merged Results! csv merged to pdf content in a DataFrame\n",
    "The lower case column names are from the PDF doc - The Capital initialised column names are from the CSV"
   ]
  },
  {
   "cell_type": "code",
   "execution_count": 174,
   "metadata": {
    "collapsed": false
   },
   "outputs": [
    {
     "data": {
      "text/html": [
       "<div>\n",
       "<table border=\"1\" class=\"dataframe\">\n",
       "  <thead>\n",
       "    <tr style=\"text-align: right;\">\n",
       "      <th></th>\n",
       "      <th>Case Number</th>\n",
       "      <th>date</th>\n",
       "      <th>moon phase</th>\n",
       "      <th>time</th>\n",
       "      <th>weather</th>\n",
       "      <th>location</th>\n",
       "      <th>name</th>\n",
       "      <th>pdffilename</th>\n",
       "      <th>Type</th>\n",
       "      <th>Country</th>\n",
       "      <th>Location</th>\n",
       "    </tr>\n",
       "  </thead>\n",
       "  <tbody>\n",
       "    <tr>\n",
       "      <th>0</th>\n",
       "      <td>2017.05.06.r</td>\n",
       "      <td>reported may 6, 2017</td>\n",
       "      <td>NaN</td>\n",
       "      <td>NaN</td>\n",
       "      <td>NaN</td>\n",
       "      <td>near weipa, northern queensland, australia</td>\n",
       "      <td>josh 'ferrett' neille</td>\n",
       "      <td>2017.05.06.R-Neille.pdf</td>\n",
       "      <td>Provoked</td>\n",
       "      <td>AUSTRALIA</td>\n",
       "      <td>Weipa</td>\n",
       "    </tr>\n",
       "    <tr>\n",
       "      <th>1</th>\n",
       "      <td>2017.05.06</td>\n",
       "      <td>saturday may 6, 2017</td>\n",
       "      <td>NaN</td>\n",
       "      <td>17h00</td>\n",
       "      <td>at 16h52, cabo pulmo recorded 12-mile visibili...</td>\n",
       "      <td>the incident took place in the sea of cortez a...</td>\n",
       "      <td>andres rozada diego fernandez</td>\n",
       "      <td>2017.05.06-Rozada.pdf</td>\n",
       "      <td>Unprovoked</td>\n",
       "      <td>MEXICO</td>\n",
       "      <td>Los Arbolitos, Cabo Pulmo</td>\n",
       "    </tr>\n",
       "    <tr>\n",
       "      <th>2</th>\n",
       "      <td>2017.05.03</td>\n",
       "      <td>wednesday may 3, 2017</td>\n",
       "      <td>first quarter</td>\n",
       "      <td>14h30</td>\n",
       "      <td>at 14h53, knsa recorded scattered clouds and 10-</td>\n",
       "      <td>the  incident  took  place  in  the  pacific  ...</td>\n",
       "      <td>sophia raab</td>\n",
       "      <td>2017.05.03-Raab.pdf</td>\n",
       "      <td>Invalid</td>\n",
       "      <td>USA</td>\n",
       "      <td>Sunset Beach, Orange County</td>\n",
       "    </tr>\n",
       "    <tr>\n",
       "      <th>3</th>\n",
       "      <td>2017.04.29.d</td>\n",
       "      <td>saturday april 29, 2017</td>\n",
       "      <td>waxing crescent, 15% of the moon was illuminat...</td>\n",
       "      <td>17h24</td>\n",
       "      <td>NaN</td>\n",
       "      <td>the  attack  took  place  a  surf  spot  calle...</td>\n",
       "      <td>leeanne ericson</td>\n",
       "      <td>2017.04.29.d-Ericson.pdf</td>\n",
       "      <td>Unprovoked</td>\n",
       "      <td>USA</td>\n",
       "      <td>San Onofre, San Diego County</td>\n",
       "    </tr>\n",
       "    <tr>\n",
       "      <th>4</th>\n",
       "      <td>2017.04.29.c</td>\n",
       "      <td>saturday april 29,2017</td>\n",
       "      <td>NaN</td>\n",
       "      <td>17h10</td>\n",
       "      <td>at 17h00, plettenberg bay recorded air tempera...</td>\n",
       "      <td>the incident took place in the indian ocean at...</td>\n",
       "      <td></td>\n",
       "      <td>2017.04.29.c-Plett.pdf</td>\n",
       "      <td>Unprovoked</td>\n",
       "      <td>SOUTH AFRICA</td>\n",
       "      <td>Keurbooms, Plettenberg Bay</td>\n",
       "    </tr>\n",
       "    <tr>\n",
       "      <th>5</th>\n",
       "      <td>2017.04.29.a</td>\n",
       "      <td>saturday april 29, 2017</td>\n",
       "      <td>new moon, april 26, 2017. last quarter, may</td>\n",
       "      <td>11h15</td>\n",
       "      <td>NaN</td>\n",
       "      <td>the  attack  took  place  in  the  indian</td>\n",
       "      <td>adrien dubosc</td>\n",
       "      <td>2017.04.29.a-Dubosc.pdf</td>\n",
       "      <td>Unprovoked</td>\n",
       "      <td>REUNION</td>\n",
       "      <td>Pointe au Sal</td>\n",
       "    </tr>\n",
       "    <tr>\n",
       "      <th>6</th>\n",
       "      <td>2017.04.27</td>\n",
       "      <td>thursday april 27, 2017</td>\n",
       "      <td>NaN</td>\n",
       "      <td>14h00</td>\n",
       "      <td>NaN</td>\n",
       "      <td>porpoise  bay,  catlins,  south  island,</td>\n",
       "      <td></td>\n",
       "      <td>2017.04.27-NZ.pdf</td>\n",
       "      <td>Unprovoked</td>\n",
       "      <td>NEW ZEALAND</td>\n",
       "      <td>Porpoise Bay, Catlins</td>\n",
       "    </tr>\n",
       "    <tr>\n",
       "      <th>7</th>\n",
       "      <td>2017.04.22</td>\n",
       "      <td>april 22, 2017</td>\n",
       "      <td>new moon, april 26, 2017</td>\n",
       "      <td>16h00</td>\n",
       "      <td>NaN</td>\n",
       "      <td>the incident took place in the south atlantic ...</td>\n",
       "      <td>frankie gonsalves</td>\n",
       "      <td>2017.04.22-Gonsalves.pdf</td>\n",
       "      <td>Unprovoked</td>\n",
       "      <td>ST HELENA, British overseas territory</td>\n",
       "      <td>English Bay</td>\n",
       "    </tr>\n",
       "    <tr>\n",
       "      <th>8</th>\n",
       "      <td>2017.04.20</td>\n",
       "      <td>thursday april 20, 2017</td>\n",
       "      <td>last quarter</td>\n",
       "      <td>08h50</td>\n",
       "      <td>at 08h55, kgge georgetown county recorded an o...</td>\n",
       "      <td>the  incident  took  place  in  the  atlantic ...</td>\n",
       "      <td></td>\n",
       "      <td>2017.04.20-PawleysIsland.pdf</td>\n",
       "      <td>Invalid</td>\n",
       "      <td>USA</td>\n",
       "      <td>Georgetown County</td>\n",
       "    </tr>\n",
       "    <tr>\n",
       "      <th>9</th>\n",
       "      <td>2017.04.17.b</td>\n",
       "      <td>monday april 17, 2017</td>\n",
       "      <td>NaN</td>\n",
       "      <td>afternoon</td>\n",
       "      <td>NaN</td>\n",
       "      <td>the incident took place in the atlantic ocean ...</td>\n",
       "      <td>NaN</td>\n",
       "      <td>2017.04.17.b-Volusia.pdf</td>\n",
       "      <td>Unprovoked</td>\n",
       "      <td>USA</td>\n",
       "      <td>Daytona Beach, Volusia County</td>\n",
       "    </tr>\n",
       "  </tbody>\n",
       "</table>\n",
       "</div>"
      ],
      "text/plain": [
       "    Case Number                     date  \\\n",
       "0  2017.05.06.r     reported may 6, 2017   \n",
       "1    2017.05.06     saturday may 6, 2017   \n",
       "2    2017.05.03    wednesday may 3, 2017   \n",
       "3  2017.04.29.d  saturday april 29, 2017   \n",
       "4  2017.04.29.c   saturday april 29,2017   \n",
       "5  2017.04.29.a  saturday april 29, 2017   \n",
       "6    2017.04.27  thursday april 27, 2017   \n",
       "7    2017.04.22           april 22, 2017   \n",
       "8    2017.04.20  thursday april 20, 2017   \n",
       "9  2017.04.17.b    monday april 17, 2017   \n",
       "\n",
       "                                          moon phase       time  \\\n",
       "0                                                NaN        NaN   \n",
       "1                                                NaN      17h00   \n",
       "2                                      first quarter      14h30   \n",
       "3  waxing crescent, 15% of the moon was illuminat...      17h24   \n",
       "4                                                NaN      17h10   \n",
       "5        new moon, april 26, 2017. last quarter, may      11h15   \n",
       "6                                                NaN      14h00   \n",
       "7                           new moon, april 26, 2017      16h00   \n",
       "8                                       last quarter      08h50   \n",
       "9                                                NaN  afternoon   \n",
       "\n",
       "                                             weather  \\\n",
       "0                                                NaN   \n",
       "1  at 16h52, cabo pulmo recorded 12-mile visibili...   \n",
       "2   at 14h53, knsa recorded scattered clouds and 10-   \n",
       "3                                                NaN   \n",
       "4  at 17h00, plettenberg bay recorded air tempera...   \n",
       "5                                                NaN   \n",
       "6                                                NaN   \n",
       "7                                                NaN   \n",
       "8  at 08h55, kgge georgetown county recorded an o...   \n",
       "9                                                NaN   \n",
       "\n",
       "                                            location  \\\n",
       "0         near weipa, northern queensland, australia   \n",
       "1  the incident took place in the sea of cortez a...   \n",
       "2  the  incident  took  place  in  the  pacific  ...   \n",
       "3  the  attack  took  place  a  surf  spot  calle...   \n",
       "4  the incident took place in the indian ocean at...   \n",
       "5          the  attack  took  place  in  the  indian   \n",
       "6           porpoise  bay,  catlins,  south  island,   \n",
       "7  the incident took place in the south atlantic ...   \n",
       "8  the  incident  took  place  in  the  atlantic ...   \n",
       "9  the incident took place in the atlantic ocean ...   \n",
       "\n",
       "                            name                   pdffilename        Type  \\\n",
       "0          josh 'ferrett' neille       2017.05.06.R-Neille.pdf    Provoked   \n",
       "1  andres rozada diego fernandez         2017.05.06-Rozada.pdf  Unprovoked   \n",
       "2                    sophia raab           2017.05.03-Raab.pdf     Invalid   \n",
       "3                leeanne ericson      2017.04.29.d-Ericson.pdf  Unprovoked   \n",
       "4                                       2017.04.29.c-Plett.pdf  Unprovoked   \n",
       "5                  adrien dubosc       2017.04.29.a-Dubosc.pdf  Unprovoked   \n",
       "6                                            2017.04.27-NZ.pdf  Unprovoked   \n",
       "7              frankie gonsalves      2017.04.22-Gonsalves.pdf  Unprovoked   \n",
       "8                                 2017.04.20-PawleysIsland.pdf     Invalid   \n",
       "9                            NaN      2017.04.17.b-Volusia.pdf  Unprovoked   \n",
       "\n",
       "                                 Country                       Location  \n",
       "0                              AUSTRALIA                          Weipa  \n",
       "1                                 MEXICO      Los Arbolitos, Cabo Pulmo  \n",
       "2                                    USA    Sunset Beach, Orange County  \n",
       "3                                    USA  San Onofre, San Diego County   \n",
       "4                           SOUTH AFRICA     Keurbooms, Plettenberg Bay  \n",
       "5                                REUNION                  Pointe au Sal  \n",
       "6                            NEW ZEALAND          Porpoise Bay, Catlins  \n",
       "7  ST HELENA, British overseas territory                    English Bay  \n",
       "8                                    USA              Georgetown County  \n",
       "9                                    USA  Daytona Beach, Volusia County  "
      ]
     },
     "execution_count": 174,
     "metadata": {},
     "output_type": "execute_result"
    }
   ],
   "source": [
    "dd[:10][['Case Number', 'date','moon phase', 'time', 'weather', 'location', 'name', 'pdffilename', 'Type', 'Country', 'Location']]"
   ]
  },
  {
   "cell_type": "code",
   "execution_count": 185,
   "metadata": {
    "collapsed": false
   },
   "outputs": [
    {
     "name": "stdout",
     "output_type": "stream",
     "text": [
      "/Users/lawrencefreeman/notebooks\r\n"
     ]
    }
   ],
   "source": [
    "!pwd"
   ]
  },
  {
   "cell_type": "code",
   "execution_count": null,
   "metadata": {
    "collapsed": true
   },
   "outputs": [],
   "source": []
  }
 ],
 "metadata": {
  "anaconda-cloud": {},
  "kernelspec": {
   "display_name": "Python [Root]",
   "language": "python",
   "name": "Python [Root]"
  },
  "language_info": {
   "codemirror_mode": {
    "name": "ipython",
    "version": 2
   },
   "file_extension": ".py",
   "mimetype": "text/x-python",
   "name": "python",
   "nbconvert_exporter": "python",
   "pygments_lexer": "ipython2",
   "version": "2.7.9"
  }
 },
 "nbformat": 4,
 "nbformat_minor": 0
}
